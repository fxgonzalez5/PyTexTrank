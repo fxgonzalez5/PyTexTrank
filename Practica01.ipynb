{
 "cells": [
  {
   "cell_type": "code",
   "execution_count": 15,
   "id": "e286db29",
   "metadata": {},
   "outputs": [],
   "source": [
    "import spacy\n",
    "import pytextrank"
   ]
  },
  {
   "cell_type": "markdown",
   "id": "db06baa7",
   "metadata": {},
   "source": [
    "# English Example"
   ]
  },
  {
   "cell_type": "code",
   "execution_count": 4,
   "id": "ab35e555",
   "metadata": {},
   "outputs": [],
   "source": [
    "# example text\n",
    "text = \"\"\"Compatibility of systems of linear constraints over the set of natural numbers.\n",
    "Criteria of compatibility of a system of linear Diophantine equations, strict inequations,\n",
    "and nonstrict inequations are considered. Upper bounds for components of a minimal set of\n",
    "solutions and algorithms of construction of minimal generating sets of solutions for all types\n",
    "of systems are given. These criteria and the corresponding algorithms for constructing a minimal\n",
    "supporting set of solutions can be used in solving all the considered types systems and systems of mixed types.\"\"\""
   ]
  },
  {
   "cell_type": "code",
   "execution_count": 7,
   "id": "85ad737f",
   "metadata": {},
   "outputs": [],
   "source": [
    "# load a spaCy model, depending on language, scale, etc.\n",
    "nlp = spacy.load(\"en_core_web_sm\")"
   ]
  },
  {
   "cell_type": "code",
   "execution_count": 12,
   "id": "b1b46813",
   "metadata": {},
   "outputs": [],
   "source": [
    "# add PyTextRank to the spaCy pipeline\n",
    "# nlp.add_pipe(\"textrank\")"
   ]
  },
  {
   "cell_type": "code",
   "execution_count": 14,
   "id": "7f1852f8",
   "metadata": {},
   "outputs": [
    {
     "name": "stdout",
     "output_type": "stream",
     "text": [
      "mixed types\n",
      "0.18224422086397363 1\n",
      "[mixed types]\n",
      "systems\n",
      "0.177894013810666 3\n",
      "[systems, systems, systems]\n",
      "minimal generating sets\n",
      "0.15012796482367466 1\n",
      "[minimal generating sets]\n",
      "nonstrict inequations\n",
      "0.14619431119413756 1\n",
      "[nonstrict inequations]\n",
      "strict inequations\n",
      "0.13846949336886627 1\n",
      "[strict inequations]\n",
      "linear Diophantine equations\n",
      "0.11980429601355375 1\n",
      "[linear Diophantine equations]\n",
      "natural numbers\n",
      "0.11382139867518232 1\n",
      "[natural numbers]\n",
      "solutions\n",
      "0.10728967890810522 3\n",
      "[solutions, solutions, solutions]\n",
      "linear constraints\n",
      "0.10596399779473555 1\n",
      "[linear constraints]\n",
      "all the considered types systems\n",
      "0.10307674738889895 1\n",
      "[all the considered types systems]\n",
      "a system\n",
      "0.0821657254086488 1\n",
      "[a system]\n",
      "a minimal set\n",
      "0.07936702627887375 1\n",
      "[a minimal set]\n",
      "algorithms\n",
      "0.07767154470857095 1\n",
      "[algorithms]\n",
      "all types\n",
      "0.07537595845740168 1\n",
      "[all types]\n",
      "construction\n",
      "0.0698386527264134 1\n",
      "[construction]\n",
      "a minimal\n",
      "supporting set\n",
      "0.06515343963918843 1\n",
      "[a minimal\n",
      "supporting set]\n",
      "the set\n",
      "0.05788665445044401 1\n",
      "[the set]\n",
      "components\n",
      "0.05325049325497536 1\n",
      "[components]\n",
      "Compatibility\n",
      "0.04700606024274989 1\n",
      "[Compatibility]\n",
      "compatibility\n",
      "0.04700606024274989 1\n",
      "[compatibility]\n",
      "the corresponding algorithms\n",
      "0.0453939383534866 1\n",
      "[the corresponding algorithms]\n",
      "Criteria\n",
      "0.04149387378785165 1\n",
      "[Criteria]\n",
      "Upper\n",
      "0.04149387378785165 1\n",
      "[Upper]\n",
      "These criteria\n",
      "0.019165199360909206 1\n",
      "[These criteria]\n"
     ]
    }
   ],
   "source": [
    "doc = nlp(text)\n",
    "# examine the top-ranked phrases in the document\n",
    "for phrase in doc._.phrases:\n",
    "    print(phrase.text)\n",
    "    print(phrase.rank, phrase.count)\n",
    "    print(phrase.chunks)"
   ]
  },
  {
   "cell_type": "markdown",
   "id": "f787dc14",
   "metadata": {},
   "source": [
    "# Ejemplo en Español"
   ]
  },
  {
   "cell_type": "code",
   "execution_count": 17,
   "id": "9bf7b39f",
   "metadata": {},
   "outputs": [],
   "source": [
    "text = \"\"\"Compatibilidad de sistemas de restricciones lineales sobre el conjunto de números naturales.\n",
    "Criterios de compatibilidad de un sistema de ecuaciones diofánticas lineales, inecuaciones estrictas,y se consideran \n",
    "inecuaciones no estrictas. Cotas superiores para los componentes de un conjunto mínimo de soluciones y algoritmos de \n",
    "construcción de conjuntos mínimos generadores de soluciones para todo tipo de sistemas se dan. Estos criterios y los \n",
    "correspondientes algoritmos para la construcción de un mínimo.\n",
    "El conjunto de soluciones de apoyo se puede utilizar para resolver todos los sistemas de tipos considerados y sistemas \n",
    "de tipos mixtos.\"\"\""
   ]
  },
  {
   "cell_type": "code",
   "execution_count": 23,
   "id": "d3487cf6",
   "metadata": {},
   "outputs": [],
   "source": [
    "nlp = spacy.load(\"es_core_news_sm\")"
   ]
  },
  {
   "cell_type": "code",
   "execution_count": 24,
   "id": "1a862aec",
   "metadata": {},
   "outputs": [
    {
     "data": {
      "text/plain": [
       "<pytextrank.base.BaseTextRankFactory at 0x210328d5600>"
      ]
     },
     "execution_count": 24,
     "metadata": {},
     "output_type": "execute_result"
    }
   ],
   "source": [
    "nlp.add_pipe(\"textrank\")"
   ]
  },
  {
   "cell_type": "code",
   "execution_count": 25,
   "id": "54ce8097",
   "metadata": {},
   "outputs": [
    {
     "name": "stdout",
     "output_type": "stream",
     "text": [
      "tipos mixtos\n",
      "0.1394496223856481 1\n",
      "[tipos mixtos]\n",
      "tipos considerados\n",
      "0.13808984482402478 1\n",
      "[tipos considerados]\n",
      "sistemas\n",
      "0.12998487546027274 2\n",
      "[sistemas, sistemas]\n",
      ", inecuaciones estrictas\n",
      "0.1260573169091316 1\n",
      "[, inecuaciones estrictas]\n",
      "inecuaciones no estrictas\n",
      "0.1260573169091316 1\n",
      "[inecuaciones no estrictas]\n",
      "números naturales\n",
      "0.10478758135522966 1\n",
      "[números naturales]\n",
      "restricciones lineales\n",
      "0.10078927888595968 1\n",
      "[restricciones lineales]\n",
      "soluciones\n",
      "0.10020392733480818 1\n",
      "[soluciones]\n",
      "ecuaciones diofánticas\n",
      "0.08796170955581528 1\n",
      "[ecuaciones diofánticas]\n",
      "un sistema\n",
      "0.06003744227005475 1\n",
      "[un sistema]\n",
      "apoyo\n",
      "0.05932912219828433 1\n",
      "[apoyo]\n",
      "Cotas superiores para los componentes de un conjunto mínimo de soluciones y algoritmos de \n",
      "construcción de conjuntos mínimos generadores de soluciones para todo tipo de sistemas\n",
      "0.05549010544822163 1\n",
      "[Cotas superiores para los componentes de un conjunto mínimo de soluciones y algoritmos de \n",
      "construcción de conjuntos mínimos generadores de soluciones para todo tipo de sistemas]\n",
      "El conjunto\n",
      "0.04856310274183401 1\n",
      "[El conjunto]\n",
      "el conjunto\n",
      "0.04856310274183401 1\n",
      "[el conjunto]\n",
      "compatibilidad\n",
      "0.04694631467115218 1\n",
      "[compatibilidad]\n",
      "todos los sistemas\n",
      "0.043598252636402116 1\n",
      "[todos los sistemas]\n",
      "la construcción\n",
      "0.04151922302590229 1\n",
      "[la construcción]\n",
      "Compatibilidad\n",
      "0.04144110293246956 1\n",
      "[Compatibilidad]\n",
      "Estos criterios\n",
      "0.019140825546861032 1\n",
      "[Estos criterios]\n"
     ]
    }
   ],
   "source": [
    "doc = nlp(text)\n",
    "\n",
    "for phrase in doc._.phrases:\n",
    "    print(phrase.text)\n",
    "    print(phrase.rank, phrase.count)\n",
    "    print(phrase.chunks)"
   ]
  }
 ],
 "metadata": {
  "kernelspec": {
   "display_name": "Python 3 (ipykernel)",
   "language": "python",
   "name": "python3"
  },
  "language_info": {
   "codemirror_mode": {
    "name": "ipython",
    "version": 3
   },
   "file_extension": ".py",
   "mimetype": "text/x-python",
   "name": "python",
   "nbconvert_exporter": "python",
   "pygments_lexer": "ipython3",
   "version": "3.10.2"
  }
 },
 "nbformat": 4,
 "nbformat_minor": 5
}
